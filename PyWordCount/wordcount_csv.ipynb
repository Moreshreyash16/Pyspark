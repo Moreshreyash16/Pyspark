{
 "cells": [
  {
   "cell_type": "markdown",
   "metadata": {},
   "source": [
    "<h3> Wordcount in CSV"
   ]
  },
  {
   "cell_type": "code",
   "execution_count": 5,
   "metadata": {},
   "outputs": [
    {
     "name": "stdout",
     "output_type": "stream",
     "text": [
      "23/07/14 15:11:39 WARN Utils: Service 'SparkUI' could not bind on port 4040. Attempting port 4041.\n"
     ]
    },
    {
     "name": "stderr",
     "output_type": "stream",
     "text": [
      "                                                                                \r"
     ]
    },
    {
     "name": "stdout",
     "output_type": "stream",
     "text": [
      "hello: 1\n",
      "this: 1\n",
      ": 8\n",
      "is: 1\n",
      "shreyash: 1\n",
      "more: 1\n",
      "and: 1\n",
      "i: 1\n",
      "am: 1\n",
      "a: 1\n",
      "fresher: 1\n"
     ]
    }
   ],
   "source": [
    "from __future__ import print_function\n",
    "import sys\n",
    "import findspark\n",
    "findspark.init()\n",
    "from operator import add\n",
    "from pyspark.sql import SparkSession\n",
    "\n",
    "if __name__ == \"__main__\":\n",
    "    # if len(sys.argv) != 2:\n",
    "    #     print(\"Usage: wordcount <file>\", file=sys.stderr)\n",
    "    #     sys.exit(-1)\n",
    "\n",
    "    spark = SparkSession\\\n",
    "        .builder\\\n",
    "        .appName(\"PythonWordCount\")\\\n",
    "        .getOrCreate()\n",
    "\n",
    "    df = spark.read.csv(\"/home/hdoop/PyWordCount/input.csv\", header=True, inferSchema=True)\n",
    "    lines = df.rdd.map(lambda r: r[0])\n",
    "    \n",
    "    counts = lines.flatMap(lambda x: x.split(' ')) \\\n",
    "                .map(lambda x: (x, 1)) \\\n",
    "                .reduceByKey(add)\n",
    "    \n",
    "    output = counts.collect()\n",
    "\n",
    "    for (word, count) in output:\n",
    "        print(\"%s: %i\" % (word, count))\n",
    "\n",
    "    spark.stop()\n"
   ]
  },
  {
   "cell_type": "code",
   "execution_count": 4,
   "metadata": {},
   "outputs": [
    {
     "name": "stdout",
     "output_type": "stream",
     "text": [
      "+----------------+\n",
      "|THIS_IS_THE_CODE|\n",
      "+----------------+\n",
      "|           hello|\n",
      "|           this |\n",
      "|             is |\n",
      "|       shreyash |\n",
      "|           more |\n",
      "|            and |\n",
      "|              i |\n",
      "|             am |\n",
      "|              a |\n",
      "|         fresher|\n",
      "+----------------+\n",
      "\n",
      "+--------+-----+\n",
      "|    word|count|\n",
      "+--------+-----+\n",
      "|shreyash|    1|\n",
      "|    more|    1|\n",
      "|   hello|    1|\n",
      "|      is|    1|\n",
      "| fresher|    1|\n",
      "|       i|    1|\n",
      "|     and|    1|\n",
      "|       a|    1|\n",
      "|        |    8|\n",
      "|    this|    1|\n",
      "|      am|    1|\n",
      "+--------+-----+\n",
      "\n"
     ]
    }
   ],
   "source": [
    "from pyspark.sql import SparkSession\n",
    "from pyspark.sql.functions import explode, split\n",
    "\n",
    "# Create SparkSession\n",
    "csv_spark = SparkSession.builder.appName(\"CSVReader\").getOrCreate()\n",
    "\n",
    "# File path\n",
    "csv_file_path = \"input.csv\"\n",
    "\n",
    "# Read CSV file\n",
    "df = csv_spark.read.csv(csv_file_path, header=True,inferSchema=True)\n",
    "df.show()\n",
    "\n",
    "text_column = 'THIS_IS_THE_CODE'\n",
    "\n",
    "df = df.select(text_column)\n",
    "\n",
    "# Split the text into words\n",
    "words_df = df.select(explode(split(df[text_column], \" \")).alias(\"word\"))\n",
    "\n",
    "word_counts = words_df.groupBy(\"word\").count()\n",
    "\n",
    "# Show the word count results\n",
    "word_counts.show()\n",
    "\n",
    "# Stop SparkSession\n",
    "csv_spark.stop()"
   ]
  }
 ],
 "metadata": {
  "kernelspec": {
   "display_name": "Python 3",
   "language": "python",
   "name": "python3"
  },
  "language_info": {
   "codemirror_mode": {
    "name": "ipython",
    "version": 3
   },
   "file_extension": ".py",
   "mimetype": "text/x-python",
   "name": "python",
   "nbconvert_exporter": "python",
   "pygments_lexer": "ipython3",
   "version": "3.8.10"
  },
  "orig_nbformat": 4
 },
 "nbformat": 4,
 "nbformat_minor": 2
}
