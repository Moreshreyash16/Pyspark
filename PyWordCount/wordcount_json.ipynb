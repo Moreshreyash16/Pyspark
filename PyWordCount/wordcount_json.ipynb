{
 "cells": [
  {
   "cell_type": "markdown",
   "metadata": {},
   "source": [
    "<h3> Wordcount in json"
   ]
  },
  {
   "cell_type": "code",
   "execution_count": 22,
   "metadata": {},
   "outputs": [
    {
     "name": "stdout",
     "output_type": "stream",
     "text": [
      "root\n",
      " |-- text: string (nullable = true)\n",
      "\n",
      "+--------------------+\n",
      "|                text|\n",
      "+--------------------+\n",
      "|apple is is very ...|\n",
      "+--------------------+\n",
      "\n",
      "DataFrame[word: string, count: bigint]\n",
      "Output In Json Format\n",
      "{\"word\":\"healthy\",\"count\":1}\n",
      "{\"word\":\"apple\",\"count\":1}\n",
      "{\"word\":\"usefull\",\"count\":1}\n",
      "{\"word\":\"is\",\"count\":2}\n",
      "{\"word\":\"much\",\"count\":1}\n",
      "{\"word\":\"very\",\"count\":2}\n",
      "{\"word\":\"\",\"count\":1}\n"
     ]
    }
   ],
   "source": [
    "# Import Libraries\n",
    "from pyspark.sql import SparkSession\n",
    "\n",
    "from pyspark.sql.functions import to_json ,explode,split\n",
    "\n",
    "\n",
    "json_spark = SparkSession.builder.appName('JsonReader').getOrCreate()\n",
    "\n",
    "json_file_path = \"input2.json\"\n",
    "df = json_spark.read.json(json_file_path)\n",
    "\n",
    "df.printSchema()\n",
    "df.show()\n",
    "\n",
    "text_column = 'text'\n",
    "\n",
    "df = df.select(text_column)\n",
    "\n",
    "words_df = df.select(explode(split(df[text_column], \" \")).alias(\"word\"))\n",
    "\n",
    "word_counts = words_df.groupBy(\"word\").count()\n",
    "\n",
    "print(word_counts)\n",
    "\n",
    "output = word_counts.toJSON().collect()\n",
    "\n",
    "print(\"Output In Json Format\")\n",
    "for i in output:\n",
    "    print(i)\n",
    "\n",
    "\n",
    "json_spark.stop()\n",
    "\n"
   ]
  },
  {
   "cell_type": "code",
   "execution_count": null,
   "metadata": {},
   "outputs": [],
   "source": []
  }
 ],
 "metadata": {
  "kernelspec": {
   "display_name": "Python 3",
   "language": "python",
   "name": "python3"
  },
  "language_info": {
   "codemirror_mode": {
    "name": "ipython",
    "version": 3
   },
   "file_extension": ".py",
   "mimetype": "text/x-python",
   "name": "python",
   "nbconvert_exporter": "python",
   "pygments_lexer": "ipython3",
   "version": "3.8.10"
  },
  "orig_nbformat": 4
 },
 "nbformat": 4,
 "nbformat_minor": 2
}
