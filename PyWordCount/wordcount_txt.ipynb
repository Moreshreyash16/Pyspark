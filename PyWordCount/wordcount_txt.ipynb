{
 "cells": [
  {
   "cell_type": "markdown",
   "metadata": {},
   "source": [
    "<h3>Word Count Using Pyspark"
   ]
  },
  {
   "cell_type": "code",
   "execution_count": 2,
   "metadata": {},
   "outputs": [],
   "source": [
    "import pyspark "
   ]
  },
  {
   "cell_type": "code",
   "execution_count": 3,
   "metadata": {},
   "outputs": [],
   "source": [
    "from pyspark.sql import SparkSession\n"
   ]
  },
  {
   "cell_type": "code",
   "execution_count": 10,
   "metadata": {},
   "outputs": [
    {
     "name": "stdout",
     "output_type": "stream",
     "text": [
      "23/07/13 14:51:57 WARN SparkSession: Using an existing Spark session; only runtime SQL configurations will take effect.\n"
     ]
    }
   ],
   "source": [
    "spark = SparkSession.builder \\\n",
    "    .master(\"local\") \\\n",
    "    .appName(\"WordCount\") \\\n",
    "    .getOrCreate()\n"
   ]
  },
  {
   "cell_type": "code",
   "execution_count": 14,
   "metadata": {},
   "outputs": [],
   "source": [
    "sc=spark.sparkContext"
   ]
  },
  {
   "cell_type": "code",
   "execution_count": 43,
   "metadata": {},
   "outputs": [],
   "source": [
    "lines = spark.sparkContext.textFile(\"/home/hdoop/wordcount/input.txt\")\n"
   ]
  },
  {
   "cell_type": "code",
   "execution_count": 47,
   "metadata": {},
   "outputs": [],
   "source": [
    "from operator import add"
   ]
  },
  {
   "cell_type": "code",
   "execution_count": 2,
   "metadata": {},
   "outputs": [
    {
     "name": "stderr",
     "output_type": "stream",
     "text": [
      "                                                                                \r"
     ]
    },
    {
     "name": "stdout",
     "output_type": "stream",
     "text": [
      "shreyash: 15\n",
      "more: 15\n",
      "hello: 15\n",
      "is: 15\n",
      "fresher: 15\n",
      "i: 15\n",
      "and: 15\n",
      "a: 15\n",
      ": 29\n",
      "this: 15\n",
      "am: 15\n"
     ]
    }
   ],
   "source": [
    "from pyspark.sql import SparkSession\n",
    "from pyspark.sql.functions import split, count\n",
    "from py4j.protocol import Py4JJavaError\n",
    "spark = SparkSession.builder.master(\"local\").appName('Firstprogram').getOrCreate()\n",
    "\n",
    "# Read the input file and create DataFrame\n",
    "df = spark.read.text(\"/home/hdoop/wordcount/input.txt\")\n",
    "\n",
    "# Split lines into words and perform word count\n",
    "counts = df.select(split(df.value, \" \").alias(\"words\")) \\\n",
    "            .selectExpr(\"explode(words) as word\") \\\n",
    "            .groupBy(\"word\") \\\n",
    "            .agg(count(\"*\").alias(\"count\"))\n",
    "\n",
    "# Printing each word with its respective count\n",
    "output = counts.collect()\n",
    "for row in output:\n",
    "    print(\"%s: %i\" % (row[\"word\"], row[\"count\"]))\n",
    "\n",
    "# Stop SparkSession\n",
    "spark.stop()"
   ]
  },
  {
   "cell_type": "code",
   "execution_count": 1,
   "metadata": {},
   "outputs": [
    {
     "name": "stderr",
     "output_type": "stream",
     "text": [
      "Setting default log level to \"WARN\".\n",
      "To adjust logging level use sc.setLogLevel(newLevel). For SparkR, use setLogLevel(newLevel).\n"
     ]
    },
    {
     "name": "stdout",
     "output_type": "stream",
     "text": [
      "23/07/14 13:14:25 WARN NativeCodeLoader: Unable to load native-hadoop library for your platform... using builtin-java classes where applicable\n"
     ]
    },
    {
     "name": "stderr",
     "output_type": "stream",
     "text": [
      "                                                                                \r"
     ]
    },
    {
     "name": "stdout",
     "output_type": "stream",
     "text": [
      "hello: 15\n",
      "this: 15\n",
      "is: 15\n",
      "shreyash: 15\n",
      "more: 15\n",
      "and: 15\n",
      "i: 15\n",
      "am: 15\n",
      "a: 15\n",
      "fresher: 15\n",
      ": 29\n"
     ]
    }
   ],
   "source": [
    "from __future__ import print_function\n",
    "import sys\n",
    "import findspark\n",
    "findspark.init()\n",
    "from operator import add\n",
    "from pyspark.sql import SparkSession\n",
    "\n",
    "if __name__ == \"__main__\":\n",
    "    # if len(sys.argv) != 2:\n",
    "    #     print(\"Usage: wordcount <file>\", file=sys.stderr)\n",
    "    #     sys.exit(-1)\n",
    "\n",
    "    spark = SparkSession\\\n",
    "        .builder\\\n",
    "        .appName(\"PythonWordCount\")\\\n",
    "        .getOrCreate()\n",
    "\n",
    "    lines = spark.read.text(\"/home/hdoop/wordcount/input.txt\").rdd.map(lambda r: r[0])\n",
    "    counts = lines.flatMap(lambda x: x.split(' ')) \\\n",
    "                .map(lambda x: (x, 1)) \\\n",
    "                .reduceByKey(add)\n",
    "    \n",
    "    output = counts.collect()\n",
    "\n",
    "    for (word, count) in output:\n",
    "        print(\"%s: %i\" % (word, count))\n",
    "\n",
    "    spark.stop()"
   ]
  }
 ],
 "metadata": {
  "kernelspec": {
   "display_name": "Python 3",
   "language": "python",
   "name": "python3"
  },
  "language_info": {
   "codemirror_mode": {
    "name": "ipython",
    "version": 3
   },
   "file_extension": ".py",
   "mimetype": "text/x-python",
   "name": "python",
   "nbconvert_exporter": "python",
   "pygments_lexer": "ipython3",
   "version": "3.8.10"
  },
  "orig_nbformat": 4
 },
 "nbformat": 4,
 "nbformat_minor": 2
}
