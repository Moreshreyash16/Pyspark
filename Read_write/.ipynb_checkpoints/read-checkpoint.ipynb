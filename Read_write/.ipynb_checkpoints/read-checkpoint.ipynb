{
 "cells": [
  {
   "cell_type": "markdown",
   "metadata": {},
   "source": [
    "READ WRITE A TEXT FILE\n"
   ]
  },
  {
   "cell_type": "code",
   "execution_count": 15,
   "metadata": {},
   "outputs": [
    {
     "name": "stderr",
     "output_type": "stream",
     "text": [
      "                                                                                \r"
     ]
    },
    {
     "name": "stdout",
     "output_type": "stream",
     "text": [
      "+--------------------+\n",
      "|               value|\n",
      "+--------------------+\n",
      "|hello this is shr...|\n",
      "|hello this is shr...|\n",
      "|hello this is shr...|\n",
      "|hello this is shr...|\n",
      "|hello this is shr...|\n",
      "|hello this is shr...|\n",
      "|hello this is shr...|\n",
      "|hello this is shr...|\n",
      "|hello this is shr...|\n",
      "|hello this is shr...|\n",
      "|hello this is shr...|\n",
      "|hello this is shr...|\n",
      "|hello this is shr...|\n",
      "|hello this is shr...|\n",
      "|hello this is shr...|\n",
      "|                    |\n",
      "|shreyash more her...|\n",
      "+--------------------+\n",
      "\n",
      "Content successfully appended to the file\n"
     ]
    }
   ],
   "source": [
    "from pyspark.sql import SparkSession\n",
    "\n",
    "try:\n",
    "    spark = SparkSession.builder.appName(\"TextFile\").getOrCreate()\n",
    "\n",
    "    text_file_path = \"hdfs://localhost:9000/read_write/input.txt\"\n",
    "    #Read a file\n",
    "    df=spark.read.text(text_file_path)\n",
    "    df.show()\n",
    "    input_text = \"shreyash more here\"\n",
    "    \n",
    "    # Append the content to the file using Hadoop FileSystem APIs\n",
    "    hadoop_fs = spark._jvm.org.apache.hadoop.fs.FileSystem.get(spark._jvm.java.net.URI(text_file_path), spark._jvm.org.apache.hadoop.conf.Configuration())\n",
    "    output_stream = hadoop_fs.append(spark._jvm.org.apache.hadoop.fs.Path(text_file_path))\n",
    "    output_stream.write(input_text.encode())\n",
    "    output_stream.close()\n",
    "\n",
    "    print(\"Content successfully appended to the file\")\n",
    "\n",
    "except Exception as e:\n",
    "    print(\"Error: \" + str(e))"
   ]
  },
  {
   "cell_type": "markdown",
   "metadata": {},
   "source": [
    "READ WRITE A CSV FILE\n"
   ]
  },
  {
   "cell_type": "code",
   "execution_count": 32,
   "metadata": {},
   "outputs": [
    {
     "name": "stdout",
     "output_type": "stream",
     "text": [
      "+----------------+\n",
      "|THIS_IS_THE_CODE|\n",
      "+----------------+\n",
      "|           hello|\n",
      "|           this |\n",
      "|             is |\n",
      "|       shreyash |\n",
      "|           more |\n",
      "|            and |\n",
      "|              i |\n",
      "|             am |\n",
      "|              a |\n",
      "|         fresher|\n",
      "+----------------+\n",
      "\n"
     ]
    }
   ],
   "source": [
    "from pyspark.sql import SparkSession\n",
    "\n",
    "\n",
    "spark = SparkSession.builder.appName(\"TextFile\").getOrCreate()\n",
    "\n",
    "text_file_path = 'hdfs://localhost:9000/read_write/input.csv'\n",
    "#Read a file\n",
    "df = spark.read.csv(text_file_path, header=True, inferSchema=True)\n",
    "df.show()"
   ]
  },
  {
   "cell_type": "code",
   "execution_count": 1,
   "metadata": {},
   "outputs": [
    {
     "name": "stdout",
     "output_type": "stream",
     "text": [
      "23/07/17 17:15:28 WARN SparkSession: Using an existing Spark session; only runtime SQL configurations will take effect.\n"
     ]
    },
    {
     "name": "stderr",
     "output_type": "stream",
     "text": [
      "\r",
      "[Stage 0:>                                                          (0 + 1) / 1]\r",
      "\r",
      "                                                                                \r"
     ]
    },
    {
     "name": "stdout",
     "output_type": "stream",
     "text": [
      "+----------------+\n",
      "|THIS_IS_THE_CODE|\n",
      "+----------------+\n",
      "|           hello|\n",
      "|           this |\n",
      "|             is |\n",
      "|       shreyash |\n",
      "|           more |\n",
      "|            and |\n",
      "|              i |\n",
      "|             am |\n",
      "|              a |\n",
      "|         fresher|\n",
      "+----------------+\n",
      "\n"
     ]
    },
    {
     "name": "stderr",
     "output_type": "stream",
     "text": [
      "                                                                                \r"
     ]
    }
   ],
   "source": [
    "from pyspark.sql import SparkSession\n",
    "from pyspark.sql import Row\n",
    "from py4j.protocol import Py4JJavaError\n",
    "import findspark\n",
    "findspark.init()\n",
    "spark = SparkSession.builder.appName(\"TextFile\").getOrCreate()\n",
    "\n",
    "text_file_path = 'hdfs://localhost:9000/read_write/input.csv'\n",
    "\n",
    "# Read the existing CSV file\n",
    "df = spark.read.csv(text_file_path, header=True, inferSchema=True)\n",
    "df.show()\n",
    "\n",
    "# Create a new row to append\n",
    "new_row = Row(\"new row\")  \n",
    "# Convert the new row to DataFrame\n",
    "new_row_df = spark.createDataFrame([new_row], df.schema)\n",
    "# new_row_df.show()\n",
    "# Append the new row to the existing DataFrame\n",
    "\n",
    "new_row_df.write.format(\"csv\").save(\"hdfs://localhost:9000/read_write/input2.csv\",header=True)\n"
   ]
  },
  {
   "cell_type": "code",
   "execution_count": null,
   "metadata": {},
   "outputs": [],
   "source": [
    "from pyspark.sql import SparkSession\n",
    "from py4j.protocol import Py4JJavaError\n",
    "import findspark\n",
    "findspark.init()\n",
    "spark = SparkSession.builder.appName(\"CSVFile\").getOrCreate()\n",
    "\n",
    "# Read the CSV file with inferred schema, comma separator, and header\n",
    "csv_file_path = \"hdfs://localhost:9000/read_write/input.csv\"\n",
    "df = spark.read.format(\"csv\").options(inferSchema=\"True\", sep=\",\", header=\"True\").load(csv_file_path)\n",
    "\n",
    "# Show the DataFrame contents\n",
    "df.show()\n",
    "\n",
    "# Split the input text into words\n",
    "input_text = \"Writing in csv file\"\n",
    "words = input_text.split()\n",
    "\n",
    "# Creating a DataFrame with words in separate rows\n",
    "input_data = [(word,) for word in words]\n",
    "input_df = spark.createDataFrame(input_data, [\"word\"])\n",
    "\n",
    "input_df.show()\n",
    "\n",
    "# write in csv file\n",
    "input_df.write.format(\"csv\").save(\"hdfs://localhost:9000/read_write/data_input2.csv\",header=True)"
   ]
  },
  {
   "cell_type": "code",
   "execution_count": 4,
   "metadata": {},
   "outputs": [
    {
     "name": "stdout",
     "output_type": "stream",
     "text": [
      "+----------------+\n",
      "|THIS_IS_THE_CODE|\n",
      "+----------------+\n",
      "|           hello|\n",
      "|           this |\n",
      "|             is |\n",
      "|       shreyash |\n",
      "|           more |\n",
      "|            and |\n",
      "|              i |\n",
      "|             am |\n",
      "|              a |\n",
      "|         fresher|\n",
      "+----------------+\n",
      "\n"
     ]
    }
   ],
   "source": [
    "from pyspark.sql import SparkSession\n",
    "from pyspark.sql import Row\n",
    "from py4j.protocol import Py4JJavaError\n",
    "import findspark\n",
    "findspark.init()\n",
    "spark = SparkSession.builder.appName(\"TextFile\").getOrCreate()\n",
    "\n",
    "text_file_path = 'hdfs://localhost:9000/read_write/input.csv'\n",
    "\n",
    "# Read the existing CSV file\n",
    "df = spark.read.csv(text_file_path, header=True, inferSchema=True)\n",
    "df.show()\n",
    "\n",
    "df.write.format(\"json\").save(\"hdfs://localhost:9000/read_write/output.json\",header=True)\n"
   ]
  },
  {
   "cell_type": "code",
   "execution_count": 5,
   "metadata": {},
   "outputs": [
    {
     "name": "stdout",
     "output_type": "stream",
     "text": [
      "+----------------+\n",
      "|THIS_IS_THE_CODE|\n",
      "+----------------+\n",
      "|           hello|\n",
      "|           this |\n",
      "|             is |\n",
      "|       shreyash |\n",
      "|           more |\n",
      "|            and |\n",
      "|              i |\n",
      "|             am |\n",
      "|              a |\n",
      "|         fresher|\n",
      "+----------------+\n",
      "\n"
     ]
    },
    {
     "name": "stderr",
     "output_type": "stream",
     "text": [
      "                                                                                \r"
     ]
    }
   ],
   "source": [
    "from pyspark.sql import SparkSession\n",
    "from pyspark.sql import Row\n",
    "from py4j.protocol import Py4JJavaError\n",
    "import findspark\n",
    "findspark.init()\n",
    "spark = SparkSession.builder.appName(\"TextFile\").getOrCreate()\n",
    "\n",
    "text_file_path = 'hdfs://localhost:9000/read_write/input.csv'\n",
    "\n",
    "# Read the existing CSV file\n",
    "df = spark.read.csv(text_file_path, header=True, inferSchema=True)\n",
    "df.show()\n",
    "\n",
    "df.write.format(\"parquet\").save(\"hdfs://localhost:9000/read_write/output.parquet\",header=True)"
   ]
  },
  {
   "cell_type": "code",
   "execution_count": null,
   "metadata": {},
   "outputs": [],
   "source": []
  }
 ],
 "metadata": {
  "kernelspec": {
   "display_name": "Python 3 (ipykernel)",
   "language": "python",
   "name": "python3"
  },
  "language_info": {
   "codemirror_mode": {
    "name": "ipython",
    "version": 3
   },
   "file_extension": ".py",
   "mimetype": "text/x-python",
   "name": "python",
   "nbconvert_exporter": "python",
   "pygments_lexer": "ipython3",
   "version": "3.8.10"
  }
 },
 "nbformat": 4,
 "nbformat_minor": 2
}
